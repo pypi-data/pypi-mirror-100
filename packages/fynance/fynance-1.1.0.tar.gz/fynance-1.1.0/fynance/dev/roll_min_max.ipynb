{
 "cells": [
  {
   "cell_type": "code",
   "execution_count": 1,
   "metadata": {},
   "outputs": [],
   "source": [
    "import numpy as np"
   ]
  },
  {
   "cell_type": "code",
   "execution_count": 12,
   "metadata": {},
   "outputs": [],
   "source": [
    "a = np.arange(100000, dtype=np.float64)\n",
    "np.random.shuffle(a)"
   ]
  },
  {
   "cell_type": "code",
   "execution_count": 15,
   "metadata": {},
   "outputs": [
    {
     "name": "stdout",
     "output_type": "stream",
     "text": [
      "11.2 µs ± 202 ns per loop (mean ± std. dev. of 7 runs, 100000 loops each)\n"
     ]
    }
   ],
   "source": [
    "%timeit min(a)"
   ]
  },
  {
   "cell_type": "code",
   "execution_count": 16,
   "metadata": {},
   "outputs": [
    {
     "name": "stdout",
     "output_type": "stream",
     "text": [
      "3.06 µs ± 142 ns per loop (mean ± std. dev. of 7 runs, 100000 loops each)\n"
     ]
    }
   ],
   "source": [
    "%timeit np.min(a)"
   ]
  },
  {
   "cell_type": "code",
   "execution_count": 12,
   "metadata": {},
   "outputs": [
    {
     "name": "stdout",
     "output_type": "stream",
     "text": [
      "157 ns ± 2.83 ns per loop (mean ± std. dev. of 7 runs, 10000000 loops each)\n"
     ]
    }
   ],
   "source": [
    "%timeit min(1, 2)"
   ]
  },
  {
   "cell_type": "code",
   "execution_count": 13,
   "metadata": {},
   "outputs": [
    {
     "name": "stdout",
     "output_type": "stream",
     "text": [
      "5.38 µs ± 223 ns per loop (mean ± std. dev. of 7 runs, 100000 loops each)\n"
     ]
    }
   ],
   "source": [
    "%timeit np.min([1, 2])"
   ]
  },
  {
   "cell_type": "code",
   "execution_count": 9,
   "metadata": {},
   "outputs": [],
   "source": [
    "import fynance as fy"
   ]
  },
  {
   "cell_type": "code",
   "execution_count": 21,
   "metadata": {},
   "outputs": [
    {
     "name": "stdout",
     "output_type": "stream",
     "text": [
      "918 ms ± 34.9 ms per loop (mean ± std. dev. of 7 runs, 1 loop each)\n"
     ]
    }
   ],
   "source": [
    "%timeit np.asarray(fy.features.momentums_cy.roll_min_cy_1d_2(a, w=10000))"
   ]
  },
  {
   "cell_type": "code",
   "execution_count": 22,
   "metadata": {},
   "outputs": [
    {
     "name": "stdout",
     "output_type": "stream",
     "text": [
      "1.21 s ± 32 ms per loop (mean ± std. dev. of 7 runs, 1 loop each)\n"
     ]
    }
   ],
   "source": [
    "%timeit np.asarray(fy.features.momentums_cy.roll_min_cy_1d(a, w=10000))"
   ]
  },
  {
   "cell_type": "code",
   "execution_count": 27,
   "metadata": {},
   "outputs": [
    {
     "name": "stdout",
     "output_type": "stream",
     "text": [
      "247 ms ± 22.4 ms per loop (mean ± std. dev. of 7 runs, 1 loop each)\n",
      "1.65 s ± 12.9 ms per loop (mean ± std. dev. of 7 runs, 1 loop each)\n",
      "313 ms ± 31.6 ms per loop (mean ± std. dev. of 7 runs, 1 loop each)\n"
     ]
    }
   ],
   "source": [
    "import pandas as pd\n",
    "import numpy as np\n",
    "\n",
    "from collections import defaultdict\n",
    "\n",
    "def cummax(g, v):\n",
    "    df1 = pd.DataFrame(g, columns=['group'])\n",
    "    df2 = pd.DataFrame(v)\n",
    "    df = pd.concat([df1, df2], axis=1)\n",
    "\n",
    "    result = df.groupby('group').cummax()\n",
    "    result = result.values\n",
    "    return result\n",
    "\n",
    "\n",
    "def transform(g, v):\n",
    "    df1 = pd.DataFrame(g, columns=['group'])\n",
    "    df2 = pd.DataFrame(v)\n",
    "    df = pd.concat([df1, df2], axis=1)\n",
    "\n",
    "    result = df.groupby('group').transform(lambda x: x.cummax())\n",
    "    result = result.values\n",
    "    return result\n",
    "\n",
    "def itertuples(g, v):\n",
    "    df1 = pd.DataFrame(g, columns=['group'])\n",
    "    df2 = pd.DataFrame(v)\n",
    "    df = pd.concat([df1, df2], axis=1)\n",
    "\n",
    "    d = defaultdict(list)\n",
    "\n",
    "    result = [np.nan] * len(g)\n",
    "\n",
    "    def d_(g, v):\n",
    "        d[g].append(v)\n",
    "        if len(d[g]) > 1:\n",
    "            d[g][-1] = tuple(max(a,b) for (a,b) in zip(d[g][-2], d[g][-1]))\n",
    "        return d[g][-1]\n",
    "\n",
    "    for row in df.itertuples(index=True):\n",
    "        index = row[0]\n",
    "        result[index] = d_(row[1], row[2:])\n",
    "\n",
    "    result = np.asarray(result)\n",
    "    return result\n",
    "\n",
    "def numpy(g, v):\n",
    "    d = defaultdict(list)\n",
    "\n",
    "    result = [np.nan] * len(g)\n",
    "\n",
    "    def d_(g, v):\n",
    "        d[g].append(v)\n",
    "        if len(d[g]) > 1:\n",
    "            d[g][-1] = np.maximum(d[g][-2], d[g][-1])\n",
    "        return d[g][-1]\n",
    "\n",
    "    for i in range(len(g)):\n",
    "        result[i] = d_(g[i], v[i])\n",
    "\n",
    "    result = np.asarray(result)\n",
    "    return result\n",
    "\n",
    "\n",
    "\n",
    "LENGTH = 100000\n",
    "g = np.random.randint(low=0, high=LENGTH/2, size=LENGTH).astype(np.float64)\n",
    "v = np.random.rand(LENGTH, 40)\n",
    "\n",
    "%timeit r1 = cummax(g, v)\n",
    "# %timeit r2 = transform(g, v)\n",
    "%timeit r3 = itertuples(g, v)\n",
    "%timeit r4 = numpy(g, v)"
   ]
  },
  {
   "cell_type": "code",
   "execution_count": 28,
   "metadata": {},
   "outputs": [
    {
     "name": "stdout",
     "output_type": "stream",
     "text": [
      "115 µs ± 3.16 µs per loop (mean ± std. dev. of 7 runs, 10000 loops each)\n",
      "121 µs ± 6.48 µs per loop (mean ± std. dev. of 7 runs, 10000 loops each)\n"
     ]
    }
   ],
   "source": [
    "%timeit np.asarray(fy.features.momentums_cy.roll_min_cy_1d_2(g, w=0))\n",
    "%timeit np.asarray(fy.features.momentums_cy.roll_min_cy_1d(g, w=0))"
   ]
  },
  {
   "cell_type": "code",
   "execution_count": null,
   "metadata": {},
   "outputs": [],
   "source": []
  },
  {
   "cell_type": "code",
   "execution_count": null,
   "metadata": {},
   "outputs": [],
   "source": []
  }
 ],
 "metadata": {
  "kernelspec": {
   "display_name": "Python 3",
   "language": "python",
   "name": "python3"
  },
  "language_info": {
   "codemirror_mode": {
    "name": "ipython",
    "version": 3
   },
   "file_extension": ".py",
   "mimetype": "text/x-python",
   "name": "python",
   "nbconvert_exporter": "python",
   "pygments_lexer": "ipython3",
   "version": "3.7.0"
  }
 },
 "nbformat": 4,
 "nbformat_minor": 2
}
